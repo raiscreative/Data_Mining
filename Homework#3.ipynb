{
 "cells": [
  {
   "cell_type": "code",
   "execution_count": 13,
   "metadata": {},
   "outputs": [
    {
     "name": "stdout",
     "output_type": "stream",
     "text": [
      " 2         1 ##\n",
      " 3         4 ########\n",
      " 4         7 ###############\n",
      " 5        14 ###############################\n",
      " 6        17 #####################################\n",
      " 7        18 ########################################\n",
      " 8        15 #################################\n",
      " 9         6 #############\n",
      "10         8 #################\n",
      "11         7 ###############\n",
      "12         3 ######\n"
     ]
    }
   ],
   "source": [
    "import pandas as pd\n",
    "import seaborn as sns\n",
    "import numpy as np\n",
    "import matplotlib.pyplot as plt\n",
    "from sklearn.cluster import KMeans\n",
    "\n",
    "%matplotlib inline\n",
    "\n",
    "import random\n",
    "from collections import defaultdict\n",
    "import csv\n",
    "\n",
    "with open('Homework_3.csv', 'w', newline = '') as f:\n",
    "    the_writer = csv.writer(f)\n",
    "    the_writer.writerow(['dice_total', 'total_counter'])\n",
    "\n",
    "    def main():\n",
    "        dice = 2\n",
    "        sides = 6\n",
    "        rolls = 100\n",
    "        result = roll(dice, sides, rolls)\n",
    "        maxH = 0\n",
    "        for i in range(dice, dice * sides + 1):\n",
    "            if result[i] / rolls > maxH: maxH = result[i] / rolls\n",
    "        for i in range(dice, dice * sides + 1):\n",
    "            print('{:2d}{:10d} {}'.format(i, result[i], '#' * int(result[i] / rolls / maxH * 40)))\n",
    "            dice_total = i\n",
    "            total_counter = result[i]\n",
    "            the_writer.writerow([dice_total, total_counter])\n",
    "\n",
    "\n",
    "    def roll(dice, sides, rolls):\n",
    "        d = defaultdict(int)\n",
    "        for _ in range(rolls):\n",
    "            d[sum(random.randint(1, sides) for _ in range(dice))] += 1\n",
    "        return d\n",
    "\n",
    "    main()\n",
    "\n",
    "df = pd.read_csv('Homework_3.csv')"
   ]
  },
  {
   "cell_type": "code",
   "execution_count": 15,
   "metadata": {},
   "outputs": [
    {
     "data": {
      "text/html": [
       "<div>\n",
       "<style scoped>\n",
       "    .dataframe tbody tr th:only-of-type {\n",
       "        vertical-align: middle;\n",
       "    }\n",
       "\n",
       "    .dataframe tbody tr th {\n",
       "        vertical-align: top;\n",
       "    }\n",
       "\n",
       "    .dataframe thead th {\n",
       "        text-align: right;\n",
       "    }\n",
       "</style>\n",
       "<table border=\"1\" class=\"dataframe\">\n",
       "  <thead>\n",
       "    <tr style=\"text-align: right;\">\n",
       "      <th></th>\n",
       "      <th>dice_total</th>\n",
       "      <th>total_counter</th>\n",
       "    </tr>\n",
       "  </thead>\n",
       "  <tbody>\n",
       "    <tr>\n",
       "      <th>0</th>\n",
       "      <td>2</td>\n",
       "      <td>1</td>\n",
       "    </tr>\n",
       "    <tr>\n",
       "      <th>1</th>\n",
       "      <td>3</td>\n",
       "      <td>4</td>\n",
       "    </tr>\n",
       "    <tr>\n",
       "      <th>2</th>\n",
       "      <td>4</td>\n",
       "      <td>7</td>\n",
       "    </tr>\n",
       "    <tr>\n",
       "      <th>3</th>\n",
       "      <td>5</td>\n",
       "      <td>14</td>\n",
       "    </tr>\n",
       "    <tr>\n",
       "      <th>4</th>\n",
       "      <td>6</td>\n",
       "      <td>17</td>\n",
       "    </tr>\n",
       "    <tr>\n",
       "      <th>5</th>\n",
       "      <td>7</td>\n",
       "      <td>18</td>\n",
       "    </tr>\n",
       "    <tr>\n",
       "      <th>6</th>\n",
       "      <td>8</td>\n",
       "      <td>15</td>\n",
       "    </tr>\n",
       "    <tr>\n",
       "      <th>7</th>\n",
       "      <td>9</td>\n",
       "      <td>6</td>\n",
       "    </tr>\n",
       "    <tr>\n",
       "      <th>8</th>\n",
       "      <td>10</td>\n",
       "      <td>8</td>\n",
       "    </tr>\n",
       "    <tr>\n",
       "      <th>9</th>\n",
       "      <td>11</td>\n",
       "      <td>7</td>\n",
       "    </tr>\n",
       "    <tr>\n",
       "      <th>10</th>\n",
       "      <td>12</td>\n",
       "      <td>3</td>\n",
       "    </tr>\n",
       "  </tbody>\n",
       "</table>\n",
       "</div>"
      ],
      "text/plain": [
       "    dice_total  total_counter\n",
       "0            2              1\n",
       "1            3              4\n",
       "2            4              7\n",
       "3            5             14\n",
       "4            6             17\n",
       "5            7             18\n",
       "6            8             15\n",
       "7            9              6\n",
       "8           10              8\n",
       "9           11              7\n",
       "10          12              3"
      ]
     },
     "execution_count": 15,
     "metadata": {},
     "output_type": "execute_result"
    }
   ],
   "source": [
    "df.head(12)"
   ]
  },
  {
   "cell_type": "code",
   "execution_count": 27,
   "metadata": {},
   "outputs": [
    {
     "data": {
      "text/plain": [
       "<matplotlib.axes._subplots.AxesSubplot at 0x1edad9b0688>"
      ]
     },
     "execution_count": 27,
     "metadata": {},
     "output_type": "execute_result"
    },
    {
     "data": {
      "image/png": "[encoded data removed]",
      "text/plain": [
       "<Figure size 432x288 with 1 Axes>"
      ]
     },
     "metadata": {
      "needs_background": "light"
     },
     "output_type": "display_data"
    }
   ],
   "source": [
    "x = df['dice_total']\n",
    "y = df['total_counter']\n",
    "sns.distplot(y, x)\n"
   ]
  }
 ],
 "metadata": {
  "kernelspec": {
   "display_name": "Python 3",
   "language": "python",
   "name": "python3"
  },
  "language_info": {
   "codemirror_mode": {
    "name": "ipython",
    "version": 3
   },
   "file_extension": ".py",
   "mimetype": "text/x-python",
   "name": "python",
   "nbconvert_exporter": "python",
   "pygments_lexer": "ipython3",
   "version": "3.7.6"
  }
 },
 "nbformat": 4,
 "nbformat_minor": 4
}
